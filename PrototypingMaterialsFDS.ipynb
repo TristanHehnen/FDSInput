{
 "cells": [
  {
   "cell_type": "markdown",
   "metadata": {},
   "source": [
    "# Prototyping of Functionality to Procedurally Generate Material Input for FDS\n",
    "\n"
   ]
  },
  {
   "cell_type": "markdown",
   "metadata": {},
   "source": [
    "The `fds_matl` class shall contain the different components that make up the `&MATL` definitions used in FDS input files. The user should ideally be able to supply parameter values to this class and receive the appropriate input lines, such that they can be directly used in FDS.\n",
    "The `matl_components` class serves as a container for the `&MATL` definition pieces. It allows for easy access by utilising the \"dot notation\". The pieces themselves are strings with placeholders, aimed to be replaced by `format()`."
   ]
  },
  {
   "cell_type": "code",
   "execution_count": 1,
   "metadata": {},
   "outputs": [],
   "source": [
    "import os\n",
    "import subprocess\n",
    "\n",
    "import pandas as pd\n",
    "import numpy as np\n",
    "# import seaborn as sns\n",
    "import matplotlib.pyplot as plt\n",
    "\n",
    "# sns.set(style=\"darkgrid\")\n",
    "%matplotlib inline"
   ]
  },
  {
   "cell_type": "code",
   "execution_count": 18,
   "metadata": {},
   "outputs": [],
   "source": [
    "# matl_components = {\"matl_init\": \"&MATL ID = {}\",\n",
    "#                    \"matl_density\": \"      DENSITY = {}\", \n",
    "#                    \"matl_emissivity\": \"      EMISSIVITY = {}\", \n",
    "#                    \"matl_conductivity\": \"      CONDUCTIVITY = {}\", \n",
    "#                    \"matl_specific_heat\": \"      SPECIFIC_HEAT = {}\"}\n"
   ]
  },
  {
   "cell_type": "code",
   "execution_count": 19,
   "metadata": {},
   "outputs": [],
   "source": [
    "# matl_components[\"matl_density\"]"
   ]
  },
  {
   "cell_type": "code",
   "execution_count": 29,
   "metadata": {},
   "outputs": [],
   "source": [
    "class matl_components:\n",
    "    identifier = \"&MATL ID = '{}'\"\n",
    "    density = \"      DENSITY = {}\"\n",
    "    emissivity = \"      EMISSIVITY = {}\"\n",
    "    conductivity = \"      CONDUCTIVITY = {}\"\n",
    "    specific_heat = \"      SPECIFIC_HEAT = {}\"\n",
    "    n_reactions = \"      N_REACTIONS = {}\"\n",
    "    a = \"      A({}) = {}\"\n",
    "    e = \"      E({}) = {}\"\n",
    "    n_s = \"      N_S({}) = {}\"\n",
    "    nu_matl = \"      NU_MATL({},{}) = {}\"\n",
    "    matl_id = \"      MATL_ID({},{}) = '{}'\"\n",
    "    nu_spec = \"      NU_SPEC({},{}) = {}\"\n",
    "    spec_id = \"      SPEC_ID({},{}) = '{}'\"\n",
    "    heat_of_comb = \"      HEAT_OF_COMBUSTION({}) = {}\"\n",
    "    heat_of_reac = \"      HEAT_OF_REACTION({}) = {}\""
   ]
  },
  {
   "cell_type": "code",
   "execution_count": 31,
   "metadata": {},
   "outputs": [
    {
     "data": {
      "text/plain": [
       "\"      SPEC_ID(1,1) = 'test'\""
      ]
     },
     "execution_count": 31,
     "metadata": {},
     "output_type": "execute_result"
    }
   ],
   "source": [
    "matl_components.spec_id.format(1,1, \"test\")"
   ]
  },
  {
   "cell_type": "code",
   "execution_count": 61,
   "metadata": {},
   "outputs": [],
   "source": [
    "class fds_matl:\n",
    "    \n",
    "    def __init__(self, \n",
    "                 initialise = None,\n",
    "                 density = None, \n",
    "                 emissivity = None, \n",
    "                 conductivity = None, \n",
    "                 specific_heat = None):\n",
    "        \n",
    "        self.initialise = initialise\n",
    "        self.density = density\n",
    "        self.emissivity = emissivity\n",
    "        self.conductivity = conductivity\n",
    "        self.specific_heat = specific_heat\n",
    "    \n",
    "    def compile_matl(self):\n",
    "        matl_definition = []\n",
    "        \n",
    "        if self.initialise is not None:\n",
    "            n = matl_components.identifier.format(self.initialise)\n",
    "            matl_definition.append(n)\n",
    "            print(self.initialise)\n",
    "        else:\n",
    "            print('Nope')\n",
    "        \n",
    "        return matl_definition\n",
    "    \n",
    "#     def __str__(self) -> str:\n",
    "        \n",
    "#         fds_matl = \n",
    "        \n",
    "#         return fds_matl"
   ]
  },
  {
   "cell_type": "code",
   "execution_count": 62,
   "metadata": {},
   "outputs": [
    {
     "data": {
      "text/plain": [
       "'TestMatl'"
      ]
     },
     "execution_count": 62,
     "metadata": {},
     "output_type": "execute_result"
    }
   ],
   "source": [
    "t = fds_matl\n",
    "t.initialise = 'TestMatl'\n",
    "t.initialise"
   ]
  },
  {
   "cell_type": "code",
   "execution_count": 60,
   "metadata": {},
   "outputs": [
    {
     "data": {
      "text/plain": [
       "<function __main__.fds_matl.compile_matl>"
      ]
     },
     "execution_count": 60,
     "metadata": {},
     "output_type": "execute_result"
    }
   ],
   "source": [
    "a = t.compile_matl\n",
    "a"
   ]
  },
  {
   "cell_type": "code",
   "execution_count": 65,
   "metadata": {},
   "outputs": [],
   "source": [
    "def compile_matl(initialise = None,\n",
    "                 density = None, \n",
    "                 emissivity = None, \n",
    "                 conductivity = None, \n",
    "                 specific_heat = None):\n",
    "    \n",
    "    matl_definition = []\n",
    "        \n",
    "    if initialise is not None:\n",
    "        n = matl_components.identifier.format(initialise)\n",
    "        matl_definition.append(n)\n",
    "        print(initialise)\n",
    "    else:\n",
    "        print('Nope')\n",
    "\n",
    "    return matl_definition\n",
    "    "
   ]
  },
  {
   "cell_type": "code",
   "execution_count": 66,
   "metadata": {},
   "outputs": [
    {
     "name": "stdout",
     "output_type": "stream",
     "text": [
      "TestMatl\n"
     ]
    },
    {
     "data": {
      "text/plain": [
       "[\"&MATL ID = 'TestMatl'\"]"
      ]
     },
     "execution_count": 66,
     "metadata": {},
     "output_type": "execute_result"
    }
   ],
   "source": [
    "d = compile_matl(initialise = 'TestMatl')\n",
    "d"
   ]
  },
  {
   "cell_type": "code",
   "execution_count": null,
   "metadata": {},
   "outputs": [],
   "source": []
  },
  {
   "cell_type": "code",
   "execution_count": null,
   "metadata": {},
   "outputs": [],
   "source": []
  },
  {
   "cell_type": "code",
   "execution_count": null,
   "metadata": {},
   "outputs": [],
   "source": []
  },
  {
   "cell_type": "code",
   "execution_count": null,
   "metadata": {},
   "outputs": [],
   "source": []
  },
  {
   "cell_type": "code",
   "execution_count": null,
   "metadata": {},
   "outputs": [],
   "source": []
  },
  {
   "cell_type": "code",
   "execution_count": null,
   "metadata": {},
   "outputs": [],
   "source": []
  },
  {
   "cell_type": "code",
   "execution_count": null,
   "metadata": {},
   "outputs": [],
   "source": []
  },
  {
   "cell_type": "code",
   "execution_count": null,
   "metadata": {},
   "outputs": [],
   "source": []
  },
  {
   "cell_type": "code",
   "execution_count": null,
   "metadata": {},
   "outputs": [],
   "source": []
  },
  {
   "cell_type": "code",
   "execution_count": null,
   "metadata": {},
   "outputs": [],
   "source": []
  }
 ],
 "metadata": {
  "kernelspec": {
   "display_name": "Python 3",
   "language": "python",
   "name": "python3"
  },
  "language_info": {
   "codemirror_mode": {
    "name": "ipython",
    "version": 3
   },
   "file_extension": ".py",
   "mimetype": "text/x-python",
   "name": "python",
   "nbconvert_exporter": "python",
   "pygments_lexer": "ipython3",
   "version": "3.6.4"
  }
 },
 "nbformat": 4,
 "nbformat_minor": 2
}

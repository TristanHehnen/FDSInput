{
 "cells": [
  {
   "cell_type": "markdown",
   "metadata": {},
   "source": [
    "# Prototyping of Functionality to Procedurally Generate Material Input for FDS\n",
    "\n"
   ]
  },
  {
   "cell_type": "markdown",
   "metadata": {},
   "source": [
    "The `fds_matl` class shall contain the different components that make up the `&MATL` definitions used in FDS input files. The user should ideally be able to supply parameter values to this class and receive the appropriate input lines, such that they can be directly used in FDS.\n",
    "The `matl_components` class serves as a container for the `&MATL` definition pieces. It allows for easy access by utilising the \"dot notation\". The pieces themselves are strings with placeholders, aimed to be replaced by utelising `format()`.\n",
    "\n",
    "Reactions as lists?\n",
    "\n",
    "Also: Some interactivity in this notebook would be nice. Parameters could be entered and by clicking a button an text file, possibly immediately a FDS input file, would be created and written to a specified directory. Furthermore, the text file's content could be presented within the notebook and could thus maybe used as online tool, if it gets interpreted via GitHub correctly - needs to be tested. "
   ]
  },
  {
   "cell_type": "code",
   "execution_count": 1,
   "metadata": {},
   "outputs": [],
   "source": [
    "import os\n",
    "import subprocess\n",
    "\n",
    "import pandas as pd\n",
    "import numpy as np\n",
    "# import seaborn as sns\n",
    "import matplotlib.pyplot as plt\n",
    "\n",
    "# sns.set(style=\"darkgrid\")\n",
    "%matplotlib inline"
   ]
  },
  {
   "cell_type": "markdown",
   "metadata": {},
   "source": []
  },
  {
   "cell_type": "code",
   "execution_count": 69,
   "metadata": {},
   "outputs": [],
   "source": [
    "class matl_components:\n",
    "    identifier = \"&MATL ID = '{}'\"\n",
    "    density = \"      DENSITY = {}\"\n",
    "    emissivity = \"      EMISSIVITY = {}\"\n",
    "    conductivity = \"      CONDUCTIVITY = {}\"\n",
    "    specific_heat = \"      SPECIFIC_HEAT = {}\"\n",
    "    n_reactions = \"      N_REACTIONS = {}\"\n",
    "    a = \"      A({}) = {}\"\n",
    "    e = \"      E({}) = {}\"\n",
    "    n_s = \"      N_S({}) = {}\"\n",
    "    nu_matl = \"      NU_MATL({},{}) = {}\"\n",
    "    matl_id = \"      MATL_ID({},{}) = '{}'\"\n",
    "    nu_spec = \"      NU_SPEC({},{}) = {}\"\n",
    "    spec_id = \"      SPEC_ID({},{}) = '{}'\"\n",
    "    heat_of_comb = \"      HEAT_OF_COMBUSTION({}) = {}\"\n",
    "    heat_of_reac = \"      HEAT_OF_REACTION({}) = {}\"\n",
    "\n",
    "\n",
    "# class matl_components2:\n",
    "    \n",
    "#     def __init__(self):\n",
    "#         identifier = \"&MATL ID = '{}'\"\n",
    "#         density = \"DENSITY = {}\"\n",
    "#         emissivity = \"EMISSIVITY = {}\"\n",
    "#         conductivity = \"CONDUCTIVITY = {}\"\n",
    "#         specific_heat = \"SPECIFIC_HEAT = {}\"\n",
    "#         n_reactions = \"N_REACTIONS = {}\"\n",
    "#         a = \"A({}) = {}\"\n",
    "#         e = \"E({}) = {}\"\n",
    "#         n_s = \"N_S({}) = {}\"\n",
    "#         nu_matl = \"NU_MATL({},{}) = {}\"\n",
    "#         matl_id = \"MATL_ID({},{}) = '{}'\"\n",
    "#         nu_spec = \"NU_SPEC({},{}) = {}\"\n",
    "#         spec_id = \"SPEC_ID({},{}) = '{}'\"\n",
    "#         heat_of_comb = \"HEAT_OF_COMBUSTION({}) = {}\"\n",
    "#         heat_of_reac = \"HEAT_OF_REACTION({}) = {}\""
   ]
  },
  {
   "cell_type": "code",
   "execution_count": 66,
   "metadata": {
    "scrolled": true
   },
   "outputs": [
    {
     "data": {
      "text/plain": [
       "\"      SPEC_ID(1,1) = 'test'\""
      ]
     },
     "execution_count": 66,
     "metadata": {},
     "output_type": "execute_result"
    }
   ],
   "source": [
    "matl_components.spec_id.format(1,1, \"test\")"
   ]
  },
  {
   "cell_type": "code",
   "execution_count": 67,
   "metadata": {},
   "outputs": [
    {
     "data": {
      "text/plain": [
       "\"      SPEC_ID({},{}) = '{}'\""
      ]
     },
     "execution_count": 67,
     "metadata": {},
     "output_type": "execute_result"
    }
   ],
   "source": [
    "matl_components.spec_id"
   ]
  },
  {
   "cell_type": "code",
   "execution_count": 10,
   "metadata": {},
   "outputs": [],
   "source": [
    "class fds_matl:\n",
    "    \n",
    "    def __init__(self, \n",
    "                 initialise = None,\n",
    "                 density = None, \n",
    "                 emissivity = None, \n",
    "                 conductivity = None, \n",
    "                 specific_heat = None):\n",
    "        \n",
    "        self.initialise = initialise\n",
    "        self.density = density\n",
    "        self.emissivity = emissivity\n",
    "        self.conductivity = conductivity\n",
    "        self.specific_heat = specific_heat\n",
    "    \n",
    "    def compile_matl(self):\n",
    "        matl_definition = []\n",
    "        print(self.initialise)\n",
    "        if self.initialise is not None:\n",
    "            n = matl_components.identifier.format(self.initialise)\n",
    "            matl_definition.append(n)\n",
    "            print(self.initialise)\n",
    "        else:\n",
    "            print('Nope')\n",
    "        \n",
    "        return matl_definition\n",
    "    \n",
    "#     def __str__(self) -> str:\n",
    "        \n",
    "#         fds_matl = \n",
    "        \n",
    "#         return fds_matl"
   ]
  },
  {
   "cell_type": "code",
   "execution_count": 11,
   "metadata": {},
   "outputs": [
    {
     "data": {
      "text/plain": [
       "'TestMatl'"
      ]
     },
     "execution_count": 11,
     "metadata": {},
     "output_type": "execute_result"
    }
   ],
   "source": [
    "t = fds_matl\n",
    "t.initialise = 'TestMatl'\n",
    "t.initialise"
   ]
  },
  {
   "cell_type": "code",
   "execution_count": 12,
   "metadata": {},
   "outputs": [
    {
     "data": {
      "text/plain": [
       "<function __main__.fds_matl.compile_matl>"
      ]
     },
     "execution_count": 12,
     "metadata": {},
     "output_type": "execute_result"
    }
   ],
   "source": [
    "a = t.compile_matl\n",
    "a"
   ]
  },
  {
   "cell_type": "code",
   "execution_count": 7,
   "metadata": {},
   "outputs": [],
   "source": [
    "def compile_matl(initialise = None,\n",
    "                 density = None, \n",
    "                 emissivity = None, \n",
    "                 conductivity = None, \n",
    "                 specific_heat = None):\n",
    "    \n",
    "    matl_definition = []\n",
    "        \n",
    "    if initialise is not None:\n",
    "        n = matl_components.identifier.format(initialise)\n",
    "        matl_definition.append(n)\n",
    "        print(initialise)\n",
    "    else:\n",
    "        print('Nope')\n",
    "\n",
    "    return matl_definition\n",
    "    "
   ]
  },
  {
   "cell_type": "code",
   "execution_count": 8,
   "metadata": {},
   "outputs": [
    {
     "name": "stdout",
     "output_type": "stream",
     "text": [
      "TestMatl\n"
     ]
    },
    {
     "data": {
      "text/plain": [
       "[\"&MATL ID = 'TestMatl'\"]"
      ]
     },
     "execution_count": 8,
     "metadata": {},
     "output_type": "execute_result"
    }
   ],
   "source": [
    "d = compile_matl(initialise = 'TestMatl')\n",
    "d"
   ]
  },
  {
   "cell_type": "code",
   "execution_count": 9,
   "metadata": {},
   "outputs": [
    {
     "ename": "NameError",
     "evalue": "name 'init' is not defined",
     "output_type": "error",
     "traceback": [
      "\u001b[1;31m---------------------------------------------------------------------------\u001b[0m",
      "\u001b[1;31mNameError\u001b[0m                                 Traceback (most recent call last)",
      "\u001b[1;32m<ipython-input-9-19f3d006bcd3>\u001b[0m in \u001b[0;36m<module>\u001b[1;34m()\u001b[0m\n\u001b[1;32m----> 1\u001b[1;33m \u001b[0minit\u001b[0m\u001b[1;33m\u001b[0m\u001b[0m\n\u001b[0m",
      "\u001b[1;31mNameError\u001b[0m: name 'init' is not defined"
     ]
    }
   ],
   "source": [
    "init"
   ]
  },
  {
   "cell_type": "code",
   "execution_count": 55,
   "metadata": {},
   "outputs": [],
   "source": [
    "class matl_para:\n",
    "    \n",
    "    def __init__(self):\n",
    "#         pass\n",
    "        \n",
    "        self. mp = {'init': None, \n",
    "              'density': 'None', \n",
    "              'emissivity': ''}\n",
    "    "
   ]
  },
  {
   "cell_type": "code",
   "execution_count": 56,
   "metadata": {},
   "outputs": [],
   "source": [
    "mpar = matl_para()"
   ]
  },
  {
   "cell_type": "code",
   "execution_count": 57,
   "metadata": {},
   "outputs": [
    {
     "data": {
      "text/plain": [
       "'None'"
      ]
     },
     "execution_count": 57,
     "metadata": {},
     "output_type": "execute_result"
    }
   ],
   "source": [
    "mpar.mp['density']"
   ]
  },
  {
   "cell_type": "code",
   "execution_count": 58,
   "metadata": {},
   "outputs": [],
   "source": [
    "mpar.mp['density'] = 2"
   ]
  },
  {
   "cell_type": "code",
   "execution_count": 62,
   "metadata": {},
   "outputs": [
    {
     "data": {
      "text/plain": [
       "2"
      ]
     },
     "execution_count": 62,
     "metadata": {},
     "output_type": "execute_result"
    }
   ],
   "source": [
    "mpar.mp['density']"
   ]
  },
  {
   "cell_type": "code",
   "execution_count": 60,
   "metadata": {},
   "outputs": [
    {
     "data": {
      "text/plain": [
       "'None'"
      ]
     },
     "execution_count": 60,
     "metadata": {},
     "output_type": "execute_result"
    }
   ],
   "source": [
    "mpar2 = matl_para()\n",
    "mpar2.mp['density']"
   ]
  },
  {
   "cell_type": "code",
   "execution_count": 172,
   "metadata": {},
   "outputs": [],
   "source": [
    "class matl_components2:\n",
    "    \n",
    "    def __init__(self):\n",
    "        init = \"&MATL ID = '{}'\"\n",
    "        density = \"DENSITY = {}\"\n",
    "        emissivity = \"EMISSIVITY = {}\"\n",
    "        conductivity = \"CONDUCTIVITY = {}\"\n",
    "        specific_heat = \"SPECIFIC_HEAT = {}\"\n",
    "        n_reactions = \"N_REACTIONS = {}\"\n",
    "        a = \"A({}) = {}\"\n",
    "        e = \"E({}) = {}\"\n",
    "        n_s = \"N_S({}) = {}\"\n",
    "        nu_matl = \"NU_MATL({},{}) = {}\"\n",
    "        matl_id = \"MATL_ID({},{}) = '{}'\"\n",
    "        nu_spec = \"NU_SPEC({},{}) = {}\"\n",
    "        spec_id = \"SPEC_ID({},{}) = '{}'\"\n",
    "        heat_of_comb = \"HEAT_OF_COMBUSTION({}) = {}\"\n",
    "        heat_of_reac = \"HEAT_OF_REACTION({}) = {}\""
   ]
  },
  {
   "cell_type": "markdown",
   "metadata": {},
   "source": [
    "Question is how to deal with possible multiple reactions. \n",
    "\n",
    "Attempt to have them provided as list of lists. A more flexible approach might be better, but fo now I have no idea how it could be done (list of dictionaries?). The dictionaries- approach could be good. The class could get a method to build the dictionaries, as conveniance functionality. "
   ]
  },
  {
   "cell_type": "code",
   "execution_count": 97,
   "metadata": {},
   "outputs": [
    {
     "name": "stdout",
     "output_type": "stream",
     "text": [
      "* Parameter: value\n",
      "------------------\n",
      "  init: MaterialTest01\n",
      "  density: 100.0\n",
      "  emissivity: 0.1\n",
      "------------------\n",
      "\n",
      "\n",
      "&MATL ID = 'MaterialTest01',\n",
      "      DENSITY = 100.0,\n",
      "      EMISSIVITY = 0.1 /\n"
     ]
    },
    {
     "data": {
      "text/plain": [
       "[\"&MATL ID = 'MaterialTest01',\",\n",
       " '      DENSITY = 100.0,',\n",
       " '      EMISSIVITY = 0.1 /']"
      ]
     },
     "execution_count": 97,
     "metadata": {},
     "output_type": "execute_result"
    }
   ],
   "source": [
    "class fds_matl_2:\n",
    "    \n",
    "    matl_temp = {'init': \"&MATL ID = '{}'\", \n",
    "                 'density': \"DENSITY = {}\", \n",
    "                 'emissivity': \"EMISSIVITY = {}\", \n",
    "                 'conductivity': \"CONDUCTIVITY = {}\", \n",
    "                 'specific_heat': \"SPECIFIC_HEAT = {}\", \n",
    "                 'n_reactions': \"N_REACTIONS = {}\", \n",
    "                 'a': \"A({}) = {}\", \n",
    "                 'e': \"E({}) = {}\", \n",
    "                 'n_s': \"N_S({}) = {}\", \n",
    "                 'nu_matl': \"NU_MATL({},{}) = {}\", \n",
    "                 'matl_id': \"MATL_ID({},{}) = '{}'\", \n",
    "                 'nu_spec': \"NU_SPEC({},{}) = {}\", \n",
    "                 'spec_id': \"SPEC_ID({},{}) = '{}'\", \n",
    "                 'heat_of_comb': \"HEAT_OF_COMBUSTION({}) = {}\", \n",
    "                 'heat_of_reac': \"HEAT_OF_REACTION({}) = {}\"}\n",
    "    \n",
    "    def __init__(self, init, density=None, emissivity=None, \n",
    "                 conductivity=None, specific_heat=None, \n",
    "                 n_reactions=None, a=None, e=None, n_s=None, \n",
    "                 nu_matl=None, matl_id=None, nu_spec=None, \n",
    "                 spec_id=None, heat_of_comb=None, \n",
    "                 heat_of_reac=None):\n",
    "        \n",
    "        self.init = init\n",
    "        self.density = density\n",
    "        self.emissivity = emissivity\n",
    "        self.conductivity = conductivity\n",
    "        self.specific_heat = specific_heat\n",
    "        self.n_reactions = n_reactions\n",
    "        self.a = a\n",
    "        self.e = e\n",
    "        self.n_s = n_s\n",
    "        self.nu_matl = nu_matl\n",
    "        self.matl_id = matl_id\n",
    "        self.nu_spec = nu_spec\n",
    "        self.spec_id = spec_id\n",
    "        self.heat_of_comb = heat_of_comb\n",
    "        self.heat_of_reac = heat_of_reac\n",
    "        \n",
    "        self.mp = {'init': self.init, \n",
    "                   'density': self.density, \n",
    "                   'emissivity': emissivity}\n",
    "        \n",
    "        self.reactions = []\n",
    "        \n",
    "        # Attempt to handle cases with only one reaction.\n",
    "        self.reac_param_base = [self.a, self.e, self.n_s,\n",
    "                           self.nu_matl, self.matl_id, self.nu_spec,\n",
    "                           self.spec_id, self.heat_of_comb,\n",
    "                           self.heat_of_reac]\n",
    "        for i in self.reac_param_base:\n",
    "            if i is not None:\n",
    "                self.add_reaction(self.a, self.e, self.n_s,\n",
    "                                  self.nu_matl, self.matl_id, self.nu_spec,\n",
    "                                  self.spec_id, self.heat_of_comb,\n",
    "                                  self.heat_of_reac)\n",
    "                break\n",
    "    \n",
    "    def add_reaction(self, a=None, e=None, n_s=None, \n",
    "                     nu_matl=None, matl_id=None, nu_spec=None, \n",
    "                     spec_id=None, heat_of_comb=None, \n",
    "                     heat_of_reac=None):\n",
    "        \n",
    "        self.a = a\n",
    "        self.e = e\n",
    "        self.n_s = n_s\n",
    "        self.nu_matl = nu_matl\n",
    "        self.matl_id = matl_id\n",
    "        self.nu_spec = nu_spec\n",
    "        self.spec_id = spec_id\n",
    "        self.heat_of_comb = heat_of_comb\n",
    "        self.heat_of_reac = heat_of_reac\n",
    "        \n",
    "        new_reac = {'a': self.a, \n",
    "                    'e': self.e, \n",
    "                    'nu_matl': self.nu_matl, \n",
    "                    'matl_id': self.matl_id, \n",
    "                    'nu_spec': self.nu_spec, \n",
    "                    'spec_id': self.spec_id, \n",
    "                    'heat_of_comb': self.heat_of_comb, \n",
    "                    'heat_of_reac': self.heat_of_reac}\n",
    "        \n",
    "        self.reactions.append(new_reac)\n",
    "    \n",
    "    def compile_matl(self, show=False):\n",
    "        matl_lines = []\n",
    "        \n",
    "        for component in self.mp:\n",
    "            idfr = '{}'.format(component)\n",
    "            \n",
    "            if self.mp[idfr] is not None:\n",
    "                comp = self.matl_temp[idfr]\n",
    "                if component is not 'init':\n",
    "                    comp = '      ' + comp\n",
    "                \n",
    "                new_c = comp.format(self.mp[idfr])+','\n",
    "                #print(new_c)\n",
    "                matl_lines.append(new_c)\n",
    "        \n",
    "        matl_lines[-1] = matl_lines[-1][:-1] + ' /'\n",
    "        \n",
    "        if show is True:\n",
    "            for line in matl_lines:\n",
    "                print(line)\n",
    "        \n",
    "        return matl_lines\n",
    "    \n",
    "    def show_reactions(self):\n",
    "        \n",
    "        string_temp = \"  {}: {}\\n\"\n",
    "        reac_out = '\\n' \\\n",
    "                   '* Reactions overview:\\n' \\\n",
    "                   '  Total: {} reaction(s)\\n'.format(len(self.reactions))\n",
    "            \n",
    "        for i in range(len(self.reactions)):\n",
    "            reac_out += '\\n' \\\n",
    "                        '* Reaction: {}\\n' \\\n",
    "                        '  Parameter: value\\n' \\\n",
    "                        '------------------\\n'.format(i+1)\n",
    "            \n",
    "            for j in self.reactions[i]:\n",
    "                reac_out += string_temp.format(j, self.reactions[i]['{}'.format(j)])\n",
    "            \n",
    "        reac_out += '------------------\\n\\n'\n",
    "        print(reac_out)\n",
    "    \n",
    "    def __str__(self):\n",
    "        \"\"\"\n",
    "        Provide overview over the parameters and values\n",
    "        stored within this objects instance.\n",
    "        \"\"\"\n",
    "        \n",
    "        string_temp = \"  {}: {}\\n\"\n",
    "        output = '* Parameter: value\\n' \\\n",
    "                 '------------------\\n'\n",
    "        for i in self.mp:\n",
    "            output += string_temp.format(i, self.mp['{}'.format(i)])\n",
    "        \n",
    "        output += '------------------\\n\\n'\n",
    "        return output\n",
    "\n",
    "\n",
    "fm2 = fds_matl_2('MaterialTest01', density=100., emissivity=0.1)\n",
    "print(fm2)\n",
    "\n",
    "nml = fm2.compile_matl(show=True)\n",
    "nml"
   ]
  },
  {
   "cell_type": "code",
   "execution_count": 98,
   "metadata": {},
   "outputs": [
    {
     "name": "stdout",
     "output_type": "stream",
     "text": [
      "* Parameter: value\n",
      "------------------\n",
      "  init: MaterialTest02\n",
      "  density: 200.0\n",
      "  emissivity: 0.2\n",
      "------------------\n",
      "\n",
      "\n",
      "\n",
      "* Reactions overview:\n",
      "  Total: 2 reaction(s)\n",
      "\n",
      "* Reaction: 1\n",
      "  Parameter: value\n",
      "------------------\n",
      "  a: 120.0\n",
      "  e: 200\n",
      "  nu_matl: None\n",
      "  matl_id: None\n",
      "  nu_spec: None\n",
      "  spec_id: None\n",
      "  heat_of_comb: None\n",
      "  heat_of_reac: None\n",
      "\n",
      "* Reaction: 2\n",
      "  Parameter: value\n",
      "------------------\n",
      "  a: 221.0\n",
      "  e: 210\n",
      "  nu_matl: None\n",
      "  matl_id: None\n",
      "  nu_spec: None\n",
      "  spec_id: None\n",
      "  heat_of_comb: None\n",
      "  heat_of_reac: None\n",
      "------------------\n",
      "\n",
      "\n"
     ]
    }
   ],
   "source": [
    "fm3 = None\n",
    "fm3 = fds_matl_2('MaterialTest02', density=200., emissivity=0.2)\n",
    "\n",
    "fm3.add_reaction(a=1.2e+2,e=200)\n",
    "fm3.add_reaction(a=2.21e+2,e=210)\n",
    "\n",
    "print(fm3)\n",
    "# print(fm3.reactions)\n",
    "fm3.show_reactions()"
   ]
  },
  {
   "cell_type": "code",
   "execution_count": 99,
   "metadata": {},
   "outputs": [
    {
     "name": "stdout",
     "output_type": "stream",
     "text": [
      "* Parameter: value\n",
      "------------------\n",
      "  init: MaterialTest03\n",
      "  density: 300.0\n",
      "  emissivity: 0.3\n",
      "------------------\n",
      "\n",
      "\n",
      "\n",
      "* Reactions overview:\n",
      "  Total: 1 reaction(s)\n",
      "\n",
      "* Reaction: 1\n",
      "  Parameter: value\n",
      "------------------\n",
      "  a: 320.0\n",
      "  e: 600\n",
      "  nu_matl: None\n",
      "  matl_id: None\n",
      "  nu_spec: None\n",
      "  spec_id: None\n",
      "  heat_of_comb: None\n",
      "  heat_of_reac: None\n",
      "------------------\n",
      "\n",
      "\n"
     ]
    }
   ],
   "source": [
    "fm4 = None\n",
    "fm4 = fds_matl_2('MaterialTest03', density=300., emissivity=0.3, a=3.2e+2,e=600)\n",
    "\n",
    "\n",
    "print(fm4)\n",
    "# print(fm4.reactions)\n",
    "fm4.show_reactions()"
   ]
  },
  {
   "cell_type": "code",
   "execution_count": null,
   "metadata": {},
   "outputs": [],
   "source": []
  },
  {
   "cell_type": "code",
   "execution_count": null,
   "metadata": {},
   "outputs": [],
   "source": []
  }
 ],
 "metadata": {
  "kernelspec": {
   "display_name": "Python 3",
   "language": "python",
   "name": "python3"
  },
  "language_info": {
   "codemirror_mode": {
    "name": "ipython",
    "version": 3
   },
   "file_extension": ".py",
   "mimetype": "text/x-python",
   "name": "python",
   "nbconvert_exporter": "python",
   "pygments_lexer": "ipython3",
   "version": "3.6.4"
  }
 },
 "nbformat": 4,
 "nbformat_minor": 2
}

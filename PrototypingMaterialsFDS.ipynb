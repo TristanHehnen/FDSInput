{
 "cells": [
  {
   "cell_type": "markdown",
   "metadata": {},
   "source": [
    "# Prototyping of Functionality to Procedurally Generate Material Input for FDS\n",
    "\n"
   ]
  },
  {
   "cell_type": "markdown",
   "metadata": {},
   "source": [
    "The `fds_matl` class shall contain the different components that make up the `&MATL` definitions used in FDS input files. The user should ideally be able to supply parameter values to this class and receive the appropriate input lines, such that they can be directly used in FDS.\n",
    "The `matl_components` class serves as a container for the `&MATL` definition pieces. It allows for easy access by utilising the \"dot notation\". The pieces themselves are strings with placeholders, aimed to be replaced by utelising `format()`.\n",
    "\n",
    "Reactions as lists?\n",
    "\n",
    "Also: Some interactivity in this notebook would be nice. Parameters could be entered and by clicking a button an text file, possibly immediately a FDS input file, would be created and written to a specified directory. Furthermore, the text file's content could be presented within the notebook and could thus maybe used as online tool, if it gets interpreted via GitHub correctly - needs to be tested. "
   ]
  },
  {
   "cell_type": "code",
   "execution_count": 22,
   "metadata": {},
   "outputs": [],
   "source": [
    "import os\n",
    "import subprocess\n",
    "\n",
    "import pandas as pd\n",
    "import numpy as np\n",
    "# import seaborn as sns\n",
    "import matplotlib.pyplot as plt\n",
    "\n",
    "# sns.set(style=\"darkgrid\")\n",
    "%matplotlib inline"
   ]
  },
  {
   "cell_type": "markdown",
   "metadata": {},
   "source": []
  },
  {
   "cell_type": "code",
   "execution_count": 23,
   "metadata": {},
   "outputs": [],
   "source": [
    "class matl_components:\n",
    "    identifier = \"&MATL ID = '{}'\"\n",
    "    density = \"      DENSITY = {}\"\n",
    "    emissivity = \"      EMISSIVITY = {}\"\n",
    "    conductivity = \"      CONDUCTIVITY = {}\"\n",
    "    specific_heat = \"      SPECIFIC_HEAT = {}\"\n",
    "    n_reactions = \"      N_REACTIONS = {}\"\n",
    "    a = \"      A({}) = {}\"\n",
    "    e = \"      E({}) = {}\"\n",
    "    n_s = \"      N_S({}) = {}\"\n",
    "    nu_matl = \"      NU_MATL({},{}) = {}\"\n",
    "    matl_id = \"      MATL_ID({},{}) = '{}'\"\n",
    "    nu_spec = \"      NU_SPEC({},{}) = {}\"\n",
    "    spec_id = \"      SPEC_ID({},{}) = '{}'\"\n",
    "    heat_of_comb = \"      HEAT_OF_COMBUSTION({}) = {}\"\n",
    "    heat_of_reac = \"      HEAT_OF_REACTION({}) = {}\"\n",
    "\n",
    "\n",
    "# class matl_components2:\n",
    "    \n",
    "#     def __init__(self):\n",
    "#         identifier = \"&MATL ID = '{}'\"\n",
    "#         density = \"DENSITY = {}\"\n",
    "#         emissivity = \"EMISSIVITY = {}\"\n",
    "#         conductivity = \"CONDUCTIVITY = {}\"\n",
    "#         specific_heat = \"SPECIFIC_HEAT = {}\"\n",
    "#         n_reactions = \"N_REACTIONS = {}\"\n",
    "#         a = \"A({}) = {}\"\n",
    "#         e = \"E({}) = {}\"\n",
    "#         n_s = \"N_S({}) = {}\"\n",
    "#         nu_matl = \"NU_MATL({},{}) = {}\"\n",
    "#         matl_id = \"MATL_ID({},{}) = '{}'\"\n",
    "#         nu_spec = \"NU_SPEC({},{}) = {}\"\n",
    "#         spec_id = \"SPEC_ID({},{}) = '{}'\"\n",
    "#         heat_of_comb = \"HEAT_OF_COMBUSTION({}) = {}\"\n",
    "#         heat_of_reac = \"HEAT_OF_REACTION({}) = {}\""
   ]
  },
  {
   "cell_type": "code",
   "execution_count": 24,
   "metadata": {
    "scrolled": true
   },
   "outputs": [
    {
     "data": {
      "text/plain": [
       "\"      SPEC_ID(1,1) = 'test'\""
      ]
     },
     "execution_count": 24,
     "metadata": {},
     "output_type": "execute_result"
    }
   ],
   "source": [
    "matl_components.spec_id.format(1,1, \"test\")"
   ]
  },
  {
   "cell_type": "code",
   "execution_count": 25,
   "metadata": {},
   "outputs": [
    {
     "data": {
      "text/plain": [
       "\"      SPEC_ID({},{}) = '{}'\""
      ]
     },
     "execution_count": 25,
     "metadata": {},
     "output_type": "execute_result"
    }
   ],
   "source": [
    "matl_components.spec_id"
   ]
  },
  {
   "cell_type": "code",
   "execution_count": 26,
   "metadata": {},
   "outputs": [],
   "source": [
    "class fds_matl:\n",
    "    \n",
    "    def __init__(self, \n",
    "                 initialise = None,\n",
    "                 density = None, \n",
    "                 emissivity = None, \n",
    "                 conductivity = None, \n",
    "                 specific_heat = None):\n",
    "        \n",
    "        self.initialise = initialise\n",
    "        self.density = density\n",
    "        self.emissivity = emissivity\n",
    "        self.conductivity = conductivity\n",
    "        self.specific_heat = specific_heat\n",
    "    \n",
    "    def compile_matl(self):\n",
    "        matl_definition = []\n",
    "        print(self.initialise)\n",
    "        if self.initialise is not None:\n",
    "            n = matl_components.identifier.format(self.initialise)\n",
    "            matl_definition.append(n)\n",
    "            print(self.initialise)\n",
    "        else:\n",
    "            print('Nope')\n",
    "        \n",
    "        return matl_definition\n",
    "    \n",
    "#     def __str__(self) -> str:\n",
    "        \n",
    "#         fds_matl = \n",
    "        \n",
    "#         return fds_matl"
   ]
  },
  {
   "cell_type": "code",
   "execution_count": 27,
   "metadata": {},
   "outputs": [
    {
     "data": {
      "text/plain": [
       "'TestMatl'"
      ]
     },
     "execution_count": 27,
     "metadata": {},
     "output_type": "execute_result"
    }
   ],
   "source": [
    "t = fds_matl\n",
    "t.initialise = 'TestMatl'\n",
    "t.initialise"
   ]
  },
  {
   "cell_type": "code",
   "execution_count": 28,
   "metadata": {},
   "outputs": [
    {
     "data": {
      "text/plain": [
       "<function __main__.fds_matl.compile_matl>"
      ]
     },
     "execution_count": 28,
     "metadata": {},
     "output_type": "execute_result"
    }
   ],
   "source": [
    "a = t.compile_matl\n",
    "a"
   ]
  },
  {
   "cell_type": "code",
   "execution_count": 29,
   "metadata": {},
   "outputs": [],
   "source": [
    "def compile_matl(initialise = None,\n",
    "                 density = None, \n",
    "                 emissivity = None, \n",
    "                 conductivity = None, \n",
    "                 specific_heat = None):\n",
    "    \n",
    "    matl_definition = []\n",
    "        \n",
    "    if initialise is not None:\n",
    "        n = matl_components.identifier.format(initialise)\n",
    "        matl_definition.append(n)\n",
    "        print(initialise)\n",
    "    else:\n",
    "        print('Nope')\n",
    "\n",
    "    return matl_definition\n",
    "    "
   ]
  },
  {
   "cell_type": "code",
   "execution_count": 30,
   "metadata": {},
   "outputs": [
    {
     "name": "stdout",
     "output_type": "stream",
     "text": [
      "TestMatl\n"
     ]
    },
    {
     "data": {
      "text/plain": [
       "[\"&MATL ID = 'TestMatl'\"]"
      ]
     },
     "execution_count": 30,
     "metadata": {},
     "output_type": "execute_result"
    }
   ],
   "source": [
    "d = compile_matl(initialise = 'TestMatl')\n",
    "d"
   ]
  },
  {
   "cell_type": "code",
   "execution_count": null,
   "metadata": {},
   "outputs": [],
   "source": []
  },
  {
   "cell_type": "code",
   "execution_count": 31,
   "metadata": {},
   "outputs": [],
   "source": [
    "class matl_para:\n",
    "    \n",
    "    def __init__(self):\n",
    "#         pass\n",
    "        \n",
    "        self. mp = {'init': None, \n",
    "              'density': 'None', \n",
    "              'emissivity': ''}\n",
    "    "
   ]
  },
  {
   "cell_type": "code",
   "execution_count": 32,
   "metadata": {},
   "outputs": [],
   "source": [
    "mpar = matl_para()"
   ]
  },
  {
   "cell_type": "code",
   "execution_count": 33,
   "metadata": {},
   "outputs": [
    {
     "data": {
      "text/plain": [
       "'None'"
      ]
     },
     "execution_count": 33,
     "metadata": {},
     "output_type": "execute_result"
    }
   ],
   "source": [
    "mpar.mp['density']"
   ]
  },
  {
   "cell_type": "code",
   "execution_count": 34,
   "metadata": {},
   "outputs": [],
   "source": [
    "mpar.mp['density'] = 2"
   ]
  },
  {
   "cell_type": "code",
   "execution_count": 35,
   "metadata": {},
   "outputs": [
    {
     "data": {
      "text/plain": [
       "2"
      ]
     },
     "execution_count": 35,
     "metadata": {},
     "output_type": "execute_result"
    }
   ],
   "source": [
    "mpar.mp['density']"
   ]
  },
  {
   "cell_type": "code",
   "execution_count": 36,
   "metadata": {},
   "outputs": [
    {
     "data": {
      "text/plain": [
       "'None'"
      ]
     },
     "execution_count": 36,
     "metadata": {},
     "output_type": "execute_result"
    }
   ],
   "source": [
    "mpar2 = matl_para()\n",
    "mpar2.mp['density']"
   ]
  },
  {
   "cell_type": "code",
   "execution_count": 37,
   "metadata": {},
   "outputs": [],
   "source": [
    "class matl_components2:\n",
    "    \n",
    "    def __init__(self):\n",
    "        init = \"&MATL ID = '{}'\"\n",
    "        density = \"DENSITY = {}\"\n",
    "        emissivity = \"EMISSIVITY = {}\"\n",
    "        conductivity = \"CONDUCTIVITY = {}\"\n",
    "        specific_heat = \"SPECIFIC_HEAT = {}\"\n",
    "        n_reactions = \"N_REACTIONS = {}\"\n",
    "        a = \"A({}) = {}\"\n",
    "        e = \"E({}) = {}\"\n",
    "        n_s = \"N_S({}) = {}\"\n",
    "        nu_matl = \"NU_MATL({},{}) = {}\"\n",
    "        matl_id = \"MATL_ID({},{}) = '{}'\"\n",
    "        nu_spec = \"NU_SPEC({},{}) = {}\"\n",
    "        spec_id = \"SPEC_ID({},{}) = '{}'\"\n",
    "        heat_of_comb = \"HEAT_OF_COMBUSTION({}) = {}\"\n",
    "        heat_of_reac = \"HEAT_OF_REACTION({}) = {}\""
   ]
  },
  {
   "cell_type": "markdown",
   "metadata": {},
   "source": []
  },
  {
   "cell_type": "code",
   "execution_count": 38,
   "metadata": {},
   "outputs": [],
   "source": [
    "class FDSSURF:\n",
    "    \n",
    "    surf_temp = {'init': \"&SURF ID = '{}'\", \n",
    "                 'ext_flux': \"EXTERNAL_FLUX = {}\", \n",
    "                 'rgb': \"RGB = {}\",\n",
    "                 'tga_analysis': \"TGA_ANALYSIS = .{}.\",\n",
    "                 'tga_heat_rate': \"TGA_HEATING_RATE = {}\",\n",
    "                 'tga_fin_temp': \"TGA_FINAL_TEMPERATURE = {}\", \n",
    "                 'backing': \"BACKING = '{}'\", \n",
    "                 'cell_size_fac': \"CELL_SIZE_FACTOR = {}\", \n",
    "                 'burn_away': \"BURN_AWAY = .{}.\", \n",
    "                 'layer_div': \"LAYER_DIVIDE = {}\", \n",
    "                 'thickness': \"THICKNESS({}) = {}\", \n",
    "                 'matl_id': \"MATL_ID({}) = {}\", \n",
    "                 'matl_mass_frac': \"MATL_MASS_FRACTION({}) = {}\", }\n",
    "    \n",
    "    def __init__(self, init, ext_flux=None, rgb=None,  \n",
    "                 tga_analysis=None, tga_heat_rate=None, \n",
    "                 tga_fin_temp=None, backing=None, \n",
    "                 cell_size_fac=None, burn_away=None, \n",
    "                 layer_div=None, thickness=None, matl_id=None, \n",
    "                 matl_mass_frac=None,):\n",
    "        \n",
    "        self.init = init\n",
    "        self.ext_flux = ext_flux\n",
    "        self.rgb = rgb\n",
    "        self.tga_analysis = tga_analysis\n",
    "        self.tga_heat_rate = tga_heat_rate\n",
    "        self.tga_fin_temp = tga_fin_temp\n",
    "        self.backing = backing\n",
    "        self.cell_size_fac = cell_size_fac\n",
    "        self.burn_away = burn_away\n",
    "        self.layer_div = layer_div\n",
    "        self.thickness = thickness\n",
    "        self.matl_id = matl_id\n",
    "        self.matl_mass_frac = matl_mass_frac\n",
    "        \n",
    "        self.param_base = [['init', self.init], \n",
    "                           ['ext_flux', self.ext_flux], \n",
    "                           ['rgb', self.rgb], \n",
    "                           ['tga_analysis', self.tga_analysis],\n",
    "                           ['tga_heat_rate', self.tga_heat_rate],\n",
    "                           ['tga_fin_temp', self.tga_fin_temp],\n",
    "                           ['backing', self.backing], \n",
    "                           ['cell_size_fac', self.cell_size_fac],\n",
    "                           ['burn_away', self.burn_away],\n",
    "                           ['layer_div', self.layer_div]]#,\n",
    "                           #['thickness', self.thickness],\n",
    "                           #['matl_id', self.matl_id],\n",
    "                           #['matl_mass_frac', self.matl_mass_frac],]\n",
    "\n",
    "        self.param_base_dict = {'init': self.init, \n",
    "                                'ext_flux': self.ext_flux, \n",
    "                                'rgb': self.rgb,\n",
    "                                'tga_analysis': self.tga_analysis,\n",
    "                                'tga_heat_rate': self.tga_heat_rate,\n",
    "                                'tga_fin_temp': self.tga_fin_temp,\n",
    "                                'backing': self.backing, \n",
    "                                'cell_size_fac': self.cell_size_fac,\n",
    "                                'burn_away': self.burn_away,\n",
    "                                'layer_div': self.layer_div}#,\n",
    "                                #'thickness': self.thickness,\n",
    "                                #'matl_id': self.matl_id,\n",
    "                                #'matl_mass_frac': self.matl_mass_frac,}\n",
    "    \n",
    "        self.materials = []\n",
    "        \n",
    "        # Attempt to handle cases with only one material.\n",
    "        self.matl_param_base = [['thickness', self.thickness],\n",
    "                                ['matl_id', self.matl_id],\n",
    "                                ['matl_mass_frac', self.matl_mass_frac]]\n",
    "        \n",
    "        for i in self.matl_param_base:\n",
    "            if i[1] is not None:\n",
    "                self.add_material(self.thickness,\n",
    "                                  self.matl_id,\n",
    "                                  self.matl_mass_frac)\n",
    "                break\n",
    "    \n",
    "    def add_material(self, \n",
    "                     thickness=None, \n",
    "                     matl_id=None, \n",
    "                     matl_mass_frac=None):\n",
    "        \n",
    "        self.thickness = thickness\n",
    "        self.matl_id = matl_id\n",
    "        self.matl_mass_frac = matl_mass_frac\n",
    "        \n",
    "        new_matl = {'thickness': self.thickness, \n",
    "                    'matl_id': self.matl_id, \n",
    "                    'matl_mass_frac': self.matl_mass_frac}\n",
    "        \n",
    "        self.materials.append(new_matl)\n",
    "    \n",
    "    def compile_surf(self, show=False):\n",
    "        surf_lines = []\n",
    "        num_matl = len(self.materials)\n",
    "        matl_count = 1\n",
    "        \n",
    "        #Process the basic surface parameters.\n",
    "        for component in self.param_base[:]:\n",
    "            idfr = '{}'.format(component[0])\n",
    "            \n",
    "            if self.param_base_dict[idfr] is not None:\n",
    "                comp = self.surf_temp[idfr]\n",
    "                if component[0] is not 'init':\n",
    "                    comp = '      ' + comp\n",
    "                \n",
    "                new_c = comp.format(self.param_base_dict[idfr])\n",
    "                #print(new_c)\n",
    "                surf_lines.append(new_c + ',')\n",
    "        \n",
    "        thick_comp = \"{}, \"\n",
    "        id_list = []\n",
    "        mass_frac_list = []\n",
    "        comp_id_temp = '{},{}:{}' \n",
    "        matl_comp_count = 1\n",
    "        thicknesses = ''\n",
    "        \n",
    "        # Add different materials.\n",
    "        for matl_dict in self.materials:\n",
    "#             print('len matl_dict',len(self.materials))\n",
    "            \n",
    "            # Check if material(s) are provided, by using the existance\n",
    "            # of thickness as an indicator.\n",
    "            idfr = 'thickness'\n",
    "            if matl_dict[idfr] is not None:\n",
    "                matl_ids = len(matl_dict['matl_id'])\n",
    "                \n",
    "                # Determine the amount of materials and collect their\n",
    "                # thicknesses in a single string.\n",
    "                thick_num = '1:{}'.format(len(self.materials))\n",
    "                thicknesses += thick_comp.format(matl_dict[idfr])\n",
    "                \n",
    "                # Collect the different material ids \n",
    "                # for a material components.\n",
    "                idfr = 'matl_id'\n",
    "                comp_id = comp_id_temp.format(matl_comp_count,\n",
    "                                              '1', matl_ids)\n",
    "                ml = ''\n",
    "                for md in matl_dict[idfr]:\n",
    "                    ml += \"'{}', \".format(md)\n",
    "                ml = ml[:-2]\n",
    "                new_c = \"      \" + self.surf_temp[idfr].format(comp_id,\n",
    "                                                               ml)\n",
    "                id_list.append(new_c)\n",
    "                \n",
    "                # Collect the different mass fractions\n",
    "                # for the material components.\n",
    "                idfr = 'matl_mass_frac'\n",
    "                comp_id = comp_id_temp.format(matl_comp_count,\n",
    "                                              '1', matl_ids)\n",
    "                mf = ''\n",
    "                for md in matl_dict[idfr]:\n",
    "                    mf += \"{}, \".format(md)\n",
    "                mf = mf[:-2]\n",
    "                new_c = \"      \" + self.surf_temp[idfr].format(comp_id,\n",
    "                                                               mf)\n",
    "                mass_frac_list.append(new_c)\n",
    "                \n",
    "                matl_comp_count += 1\n",
    "        \n",
    "        # Create the thickness input line.\n",
    "        new_thick = \"      \" + self.surf_temp['thickness'].format(thick_num,\n",
    "                                                                  thicknesses[:-1])\n",
    "        surf_lines.append(new_thick)\n",
    "        \n",
    "        # Append the various material id lines.\n",
    "        for m_id in id_list:\n",
    "            surf_lines.append(m_id + ',')\n",
    "        \n",
    "        # Append the various material mass fraction lines.\n",
    "        for m_fr in mass_frac_list:\n",
    "            surf_lines.append(m_fr + ',')\n",
    "        \n",
    "        # Remove the last comma.\n",
    "        surf_lines[-1] = surf_lines[-1][:-1] + ' /\\n'\n",
    "        \n",
    "        # Print results to the screen, if desired.\n",
    "        if show is True:\n",
    "            for line in surf_lines:\n",
    "                print(line)\n",
    "        \n",
    "        return surf_lines"
   ]
  },
  {
   "cell_type": "code",
   "execution_count": 39,
   "metadata": {},
   "outputs": [
    {
     "name": "stdout",
     "output_type": "stream",
     "text": [
      "[{'thickness': 0.5, 'matl_id': ['GreenStuff'], 'matl_mass_frac': [0.42]}]\n",
      "len matl_dict 1\n",
      "&SURF ID = 'Cable 219 plastic',\n",
      "      EXTERNAL_FLUX = 25.0,\n",
      "      RGB = 200,100,0,\n",
      "      BACKING = 'EXPOSED',\n",
      "      BURN_AWAY = .TRUE.,\n",
      "      THICKNESS(1:1) = 0.5,\n",
      "      MATL_ID(1,1:1) = 'GreenStuff',\n",
      "      MATL_MASS_FRACTION(1,1:1) = '0.42' /\n",
      "\n"
     ]
    },
    {
     "data": {
      "text/plain": [
       "[\"&SURF ID = 'Cable 219 plastic',\",\n",
       " '      EXTERNAL_FLUX = 25.0,',\n",
       " '      RGB = 200,100,0,',\n",
       " \"      BACKING = 'EXPOSED',\",\n",
       " '      BURN_AWAY = .TRUE.,',\n",
       " '      THICKNESS(1:1) = 0.5,',\n",
       " \"      MATL_ID(1,1:1) = 'GreenStuff',\",\n",
       " \"      MATL_MASS_FRACTION(1,1:1) = '0.42' /\\n\"]"
      ]
     },
     "execution_count": 39,
     "metadata": {},
     "output_type": "execute_result"
    }
   ],
   "source": [
    "fs1 = FDSSURF('Cable 219 plastic', ext_flux=25., rgb='200,100,0',\n",
    "              backing='EXPOSED', burn_away='TRUE', thickness=0.5,\n",
    "              matl_id=['GreenStuff'], matl_mass_frac=[0.42])\n",
    "\n",
    "nsl = fs1.compile_surf(show=True)\n",
    "nsl"
   ]
  },
  {
   "cell_type": "markdown",
   "metadata": {},
   "source": [
    "Question is how to deal with possible multiple reactions. \n",
    "\n",
    "Attempt to have them provided as list of lists. A more flexible approach might be better, but for now I have no idea how it could be done (list of dictionaries?). \n",
    "\n",
    "The dictionaries- approach could be good. The class could get a method to build the dictionaries, as conveniance functionality. "
   ]
  },
  {
   "cell_type": "code",
   "execution_count": 40,
   "metadata": {},
   "outputs": [
    {
     "name": "stdout",
     "output_type": "stream",
     "text": [
      "* Parameter: value\n",
      "------------------\n",
      "  init: MaterialTest01\n",
      "  emissivity: 0.1\n",
      "  density: 100.0\n",
      "  conductivity: None\n",
      "  specific_heat: 4.19\n",
      "------------------\n",
      "\n",
      "\n",
      "&MATL ID = 'MaterialTest01',\n",
      "      EMISSIVITY = 0.1,\n",
      "      DENSITY = 100.0,\n",
      "      SPECIFIC_HEAT = 4.19,\n",
      "      N_REACTIONS = 1,\n",
      "      A(1) = 10000,\n",
      "      HEAT_OF_COMBUSTION(1) = 42000 /\n",
      "\n"
     ]
    },
    {
     "data": {
      "text/plain": [
       "[\"&MATL ID = 'MaterialTest01',\",\n",
       " '      EMISSIVITY = 0.1,',\n",
       " '      DENSITY = 100.0,',\n",
       " '      SPECIFIC_HEAT = 4.19,',\n",
       " '      N_REACTIONS = 1,',\n",
       " '      A(1) = 10000,',\n",
       " '      HEAT_OF_COMBUSTION(1) = 42000 /\\n']"
      ]
     },
     "execution_count": 40,
     "metadata": {},
     "output_type": "execute_result"
    }
   ],
   "source": [
    "class fds_matl_2:\n",
    "    \n",
    "    matl_temp = {'init': \"&MATL ID = '{}'\", \n",
    "                 'density': \"DENSITY = {}\", \n",
    "                 'emissivity': \"EMISSIVITY = {}\", \n",
    "                 'conductivity': \"CONDUCTIVITY = {}\", \n",
    "                 'specific_heat': \"SPECIFIC_HEAT = {}\", \n",
    "                 'n_reactions': \"N_REACTIONS = {}\", \n",
    "                 'a': \"A({}) = {}\", \n",
    "                 'e': \"E({}) = {}\", \n",
    "                 'n_s': \"N_S({}) = {}\", \n",
    "                 'nu_matl': \"NU_MATL({}) = {}\", \n",
    "                 'matl_id': \"MATL_ID({}) = '{}'\", \n",
    "                 'nu_spec': \"NU_SPEC({}) = {}\", \n",
    "                 'spec_id': \"SPEC_ID({}) = '{}'\", \n",
    "                 'heat_of_comb': \"HEAT_OF_COMBUSTION({}) = {}\", \n",
    "                 'heat_of_reac': \"HEAT_OF_REACTION({}) = {}\"}\n",
    "    \n",
    "    def __init__(self, init, density=None, emissivity=None, \n",
    "                 conductivity=None, specific_heat=None,\n",
    "                 a=None, e=None, n_s=None, nu_matl=None, \n",
    "                 matl_id=None, nu_spec=None, spec_id=None, \n",
    "                 heat_of_comb=None, heat_of_reac=None):\n",
    "        \n",
    "        self.init = init\n",
    "        self.density = density\n",
    "        self.emissivity = emissivity\n",
    "        self.conductivity = conductivity\n",
    "        self.specific_heat = specific_heat\n",
    "        self.n_reactions = None\n",
    "        self.a = a\n",
    "        self.e = e\n",
    "        self.n_s = n_s\n",
    "        self.nu_matl = nu_matl\n",
    "        self.matl_id = matl_id\n",
    "        self.nu_spec = nu_spec\n",
    "        self.spec_id = spec_id\n",
    "        self.heat_of_comb = heat_of_comb\n",
    "        self.heat_of_reac = heat_of_reac\n",
    "        \n",
    "        self.param_base = [['init', self.init], \n",
    "                           ['emissivity', self.emissivity], \n",
    "                           ['density', self.density], \n",
    "                           ['conductivity', self.conductivity], \n",
    "                           ['specific_heat', self.specific_heat]]#, \n",
    "                           #['heat_of_comb', self.heat_of_comb], \n",
    "                           #['heat_of_reac', self.heat_of_reac]]\n",
    "        \n",
    "        self.param_base_dict = {'init': self.init, \n",
    "                                'emissivity': self.emissivity, \n",
    "                                'density': self.density, \n",
    "                                'conductivity': self.conductivity, \n",
    "                                'specific_heat': self.specific_heat}#, \n",
    "                                #'heat_of_comb': self.heat_of_comb, \n",
    "                                #'heat_of_reac': self.heat_of_reac}\n",
    "        \n",
    "        self.reactions = []\n",
    "        \n",
    "        # Attempt to handle cases with only one reaction.\n",
    "        self.reac_param_base1 = [['a', self.a], \n",
    "                                 ['e', self.e], \n",
    "                                 ['n_s', self.n_s], \n",
    "                                 ['heat_of_comb', self.heat_of_comb],\n",
    "                                 ['heat_of_reac', self.heat_of_reac]]\n",
    "        \n",
    "        self.reac_param_base2 = [['nu_matl', self.nu_matl], \n",
    "                                 ['matl_id', self.matl_id], \n",
    "                                 ['nu_spec', self.nu_spec],\n",
    "                                 ['spec_id', self.spec_id]]\n",
    "        \n",
    "        self.reac_param_base1_dict = {'a': self.a,\n",
    "                                      'e': self.e,\n",
    "                                      'n_s': self.n_s,\n",
    "                                      'heat_of_comb': self.heat_of_comb,\n",
    "                                      'heat_of_reac': self.heat_of_reac}\n",
    "        \n",
    "        self.reac_param_base2_dict = {'nu_matl': self.nu_matl,\n",
    "                                      'matl_id': self.matl_id,\n",
    "                                      'nu_spec': self.nu_spec,\n",
    "                                      'spec_id': self.spec_id}\n",
    "        \n",
    "        for i in self.reac_param_base1:\n",
    "            if i[1] is not None:\n",
    "                self.add_reaction(self.a, self.e, self.n_s,\n",
    "                                  self.nu_matl, self.matl_id, self.nu_spec,\n",
    "                                  self.spec_id, self.heat_of_comb,\n",
    "                                  self.heat_of_reac)\n",
    "                break\n",
    "    \n",
    "    def add_reaction(self, a=None, e=None, n_s=None, \n",
    "                     nu_matl=None, matl_id=None, nu_spec=None, \n",
    "                     spec_id=None, heat_of_comb=None, \n",
    "                     heat_of_reac=None):\n",
    "        \n",
    "        self.a = a\n",
    "        self.e = e\n",
    "        self.n_s = n_s\n",
    "        self.nu_matl = nu_matl\n",
    "        self.matl_id = matl_id\n",
    "        self.nu_spec = nu_spec\n",
    "        self.spec_id = spec_id\n",
    "        self.heat_of_comb = heat_of_comb\n",
    "        self.heat_of_reac = heat_of_reac\n",
    "        \n",
    "        new_reac1 = {'a': self.a,\n",
    "                     'e': self.e,\n",
    "                     'n_s': self.n_s,\n",
    "                     'heat_of_comb': self.heat_of_comb,\n",
    "                     'heat_of_reac': self.heat_of_reac}\n",
    "        \n",
    "        new_reac2 = {'nu_matl': self.nu_matl,\n",
    "                     'matl_id': self.matl_id,\n",
    "                     'nu_spec': self.nu_spec,\n",
    "                     'spec_id': self.spec_id}\n",
    "        \n",
    "        self.reactions.append([new_reac1, \n",
    "                               new_reac2])\n",
    "    \n",
    "    def compile_matl(self, show=False):\n",
    "        matl_lines = []\n",
    "        num_reac = len(self.reactions)\n",
    "        reac_count = 1\n",
    "        \n",
    "        # Process the basic material parameters.\n",
    "        for component in self.param_base[:]:\n",
    "            idfr = '{}'.format(component[0])\n",
    "            \n",
    "            if self.param_base_dict[idfr] is not None:\n",
    "                comp = self.matl_temp[idfr]\n",
    "                if component[0] is not 'init':\n",
    "                    comp = '      ' + comp\n",
    "                \n",
    "                new_c = comp.format(self.param_base_dict[idfr])\n",
    "                #print(new_c)\n",
    "                matl_lines.append(new_c + ',')\n",
    "        \n",
    "        if num_reac is not 0:\n",
    "            idfr = 'n_reactions'\n",
    "            new_c = \"      \" + self.matl_temp[idfr].format(num_reac)\n",
    "            matl_lines.append(new_c + ',')\n",
    "        \n",
    "        for reac_list in self.reactions:\n",
    "            # Check if reaction information is provided.\n",
    "            if num_reac is not 0:\n",
    "                reac_ids = len(reac_list[0]['a'])\n",
    "                reac_num = '1:{}'.format(reac_ids)\n",
    "                \n",
    "                # Build the first block of reaction input.\n",
    "                for idfr in self.reac_param_base1[:-2]:\n",
    "                    \n",
    "                    para = ''\n",
    "                    for par in reac_list[0][idfr[0]]:\n",
    "                        para += \"{}, \".format(par)\n",
    "                    para = para[:-2]\n",
    "                    new_c = \"      \" + self.matl_temp[idfr[0]].format(reac_num,\n",
    "                                                                      para)\n",
    "                    matl_lines.append(new_c + ',')\n",
    "                    \n",
    "                # Build the second block of reaction input.\n",
    "                # Contains information on material and species yields.\n",
    "                comp_id = '{},{}:{}'.format(reac_count,\n",
    "                                            '1', reac_ids)\n",
    "                for idfr in self.reac_param_base2:\n",
    "                    \n",
    "                    para = ''\n",
    "                    #print(reac_list[1],reac_list[1][idfr[0]])\n",
    "                    for par in reac_list[1][idfr[0]]:\n",
    "                        para += \"{}, \".format(par)\n",
    "                    para = para[:-2]\n",
    "                    \n",
    "                    new_c = \"      \" + self.matl_temp[idfr[0]].format(comp_id,\n",
    "                                                                      para)\n",
    "                    matl_lines.append(new_c + ',')\n",
    "                \n",
    "                # Build the third block of reaction input.\n",
    "                for idfr in self.reac_param_base1[-2:]:\n",
    "                    \n",
    "                    para = ''\n",
    "                    for par in reac_list[0][idfr[0]]:\n",
    "                        para += \"{}, \".format(par)\n",
    "                    para = para[:-2]\n",
    "                    new_c = \"      \" + self.matl_temp[idfr[0]].format(reac_num,\n",
    "                                                                      para)\n",
    "                    matl_lines.append(new_c + ',')\n",
    "        \n",
    "        matl_lines[-1] = matl_lines[-1][:-1] + ' /\\n'\n",
    "        \n",
    "        if show is True:\n",
    "            for line in matl_lines:\n",
    "                print(line)\n",
    "        \n",
    "        return matl_lines\n",
    "    \n",
    "    def show_reactions(self):\n",
    "        \n",
    "        string_temp = \"  {}: {}\\n\"\n",
    "        reac_out = '\\n' \\\n",
    "                   '* Reactions overview:\\n' \\\n",
    "                   '  Total: {} reaction(s)\\n'.format(len(self.reactions))\n",
    "            \n",
    "        for i in range(len(self.reactions)):\n",
    "            reac_out += '\\n' \\\n",
    "                        '* Reaction: {}\\n' \\\n",
    "                        '  Parameter: value\\n' \\\n",
    "                        '------------------\\n'.format(i+1)\n",
    "            \n",
    "            for j in self.reactions[i]:\n",
    "                reac_out += string_temp.format(j, self.reactions[i]['{}'.format(j)])\n",
    "            \n",
    "        reac_out += '------------------\\n\\n'\n",
    "        print(reac_out)\n",
    "    \n",
    "    def __str__(self):\n",
    "        \"\"\"\n",
    "        Provide complete overview over the parameters and \n",
    "        values stored within this objects instance.\n",
    "        \"\"\"\n",
    "        \n",
    "        string_temp = \"  {}: {}\\n\"\n",
    "        output = '* Parameter: value\\n' \\\n",
    "                 '------------------\\n'\n",
    "        for i in self.param_base_dict:\n",
    "            output += string_temp.format(i, self.param_base_dict['{}'.format(i)])\n",
    "        \n",
    "        output += '------------------\\n\\n'\n",
    "        return output\n",
    "\n",
    "\n",
    "\n",
    "fm2 = fds_matl_2('MaterialTest01', density=100., emissivity=0.1, \n",
    "                 specific_heat=4.19, heat_of_comb=42000, a=10000)\n",
    "print(fm2)\n",
    "\n",
    "nml = fm2.compile_matl(show=True)\n",
    "nml"
   ]
  },
  {
   "cell_type": "code",
   "execution_count": 41,
   "metadata": {},
   "outputs": [
    {
     "name": "stdout",
     "output_type": "stream",
     "text": [
      "* Parameter: value\n",
      "------------------\n",
      "  init: MaterialTest02\n",
      "  emissivity: 0.2\n",
      "  density: 200.0\n",
      "  conductivity: None\n",
      "  specific_heat: None\n",
      "------------------\n",
      "\n",
      "\n",
      "\n",
      "* Reactions overview:\n",
      "  Total: 2 reaction(s)\n",
      "\n",
      "* Reaction: 1\n",
      "  Parameter: value\n",
      "------------------\n",
      "  a: 120.0\n",
      "  e: 200\n",
      "  n_s: None\n",
      "  nu_matl: None\n",
      "  matl_id: None\n",
      "  nu_spec: None\n",
      "  spec_id: None\n",
      "  heat_of_comb: None\n",
      "  heat_of_reac: 1100\n",
      "\n",
      "* Reaction: 2\n",
      "  Parameter: value\n",
      "------------------\n",
      "  a: 221.0\n",
      "  e: 210\n",
      "  n_s: None\n",
      "  nu_matl: None\n",
      "  matl_id: None\n",
      "  nu_spec: None\n",
      "  spec_id: None\n",
      "  heat_of_comb: 1200\n",
      "  heat_of_reac: None\n",
      "------------------\n",
      "\n",
      "\n",
      "&MATL ID = 'MaterialTest02',\n",
      "      EMISSIVITY = 0.2,\n",
      "      DENSITY = 200.0,\n",
      "      N_REACTIONS = 2,\n",
      "      A(1) = 120.0,\n",
      "      E(1) = 200,\n",
      "      HEAT_OF_REACTION(1) = 1100,\n",
      "      A(2) = 221.0,\n",
      "      E(2) = 210,\n",
      "      HEAT_OF_COMBUSTION(2) = 1200 /\n",
      "\n"
     ]
    },
    {
     "data": {
      "text/plain": [
       "[\"&MATL ID = 'MaterialTest02',\",\n",
       " '      EMISSIVITY = 0.2,',\n",
       " '      DENSITY = 200.0,',\n",
       " '      N_REACTIONS = 2,',\n",
       " '      A(1) = 120.0,',\n",
       " '      E(1) = 200,',\n",
       " '      HEAT_OF_REACTION(1) = 1100,',\n",
       " '      A(2) = 221.0,',\n",
       " '      E(2) = 210,',\n",
       " '      HEAT_OF_COMBUSTION(2) = 1200 /\\n']"
      ]
     },
     "execution_count": 41,
     "metadata": {},
     "output_type": "execute_result"
    }
   ],
   "source": [
    "fm3 = None\n",
    "fm3 = fds_matl_2('MaterialTest02', density=200., emissivity=0.2)\n",
    "\n",
    "fm3.add_reaction(a=1.2e+2,e=200, heat_of_reac=1100)\n",
    "fm3.add_reaction(a=2.21e+2,e=210, heat_of_comb=1200)\n",
    "\n",
    "print(fm3)\n",
    "# print(fm3.reactions)\n",
    "fm3.show_reactions()\n",
    "fm3.compile_matl(show=True)"
   ]
  },
  {
   "cell_type": "code",
   "execution_count": 42,
   "metadata": {},
   "outputs": [
    {
     "name": "stdout",
     "output_type": "stream",
     "text": [
      "* Parameter: value\n",
      "------------------\n",
      "  init: MaterialTest03\n",
      "  emissivity: 0.3\n",
      "  density: 300.0\n",
      "  conductivity: None\n",
      "  specific_heat: None\n",
      "------------------\n",
      "\n",
      "\n",
      "\n",
      "* Reactions overview:\n",
      "  Total: 1 reaction(s)\n",
      "\n",
      "* Reaction: 1\n",
      "  Parameter: value\n",
      "------------------\n",
      "  a: 320.0\n",
      "  e: 600\n",
      "  n_s: None\n",
      "  nu_matl: None\n",
      "  matl_id: None\n",
      "  nu_spec: None\n",
      "  spec_id: None\n",
      "  heat_of_comb: None\n",
      "  heat_of_reac: None\n",
      "------------------\n",
      "\n",
      "\n"
     ]
    }
   ],
   "source": [
    "fm4 = None\n",
    "fm4 = fds_matl_2('MaterialTest03', density=300., emissivity=0.3, a=3.2e+2,e=600)\n",
    "\n",
    "\n",
    "print(fm4)\n",
    "# print(fm4.reactions)\n",
    "fm4.show_reactions()"
   ]
  },
  {
   "cell_type": "code",
   "execution_count": 43,
   "metadata": {},
   "outputs": [
    {
     "name": "stdout",
     "output_type": "stream",
     "text": [
      "* Parameter: value\n",
      "------------------\n",
      "  init: MaterialTest03\n",
      "  emissivity: 0.3\n",
      "  density: 300.0\n",
      "  conductivity: None\n",
      "  specific_heat: None\n",
      "------------------\n",
      "\n",
      "\n",
      "\n",
      "* Reactions overview:\n",
      "  Total: 1 reaction(s)\n",
      "\n",
      "* Reaction: 1\n",
      "  Parameter: value\n",
      "------------------\n",
      "  a: 320.0\n",
      "  e: 600\n",
      "  n_s: None\n",
      "  nu_matl: None\n",
      "  matl_id: None\n",
      "  nu_spec: None\n",
      "  spec_id: None\n",
      "  heat_of_comb: None\n",
      "  heat_of_reac: None\n",
      "------------------\n",
      "\n",
      "\n"
     ]
    }
   ],
   "source": [
    "# fm5 = None\n",
    "fm5 = fds_matl_2('MaterialTest03', density=300., emissivity=0.3, a=3.2e+2,e=600)\n",
    "\n",
    "\n",
    "print(fm5)\n",
    "# print(fm4.reactions)\n",
    "fm5.show_reactions()"
   ]
  },
  {
   "cell_type": "code",
   "execution_count": null,
   "metadata": {},
   "outputs": [],
   "source": []
  },
  {
   "cell_type": "markdown",
   "metadata": {},
   "source": [
    "## Obstructions"
   ]
  },
  {
   "cell_type": "code",
   "execution_count": null,
   "metadata": {},
   "outputs": [],
   "source": [
    "#################\n",
    "# OBSTRUCTION CLASS\n",
    "class Obst:\n",
    "    \"\"\"\n",
    "    Set size and position of an obstruction in FDS.\n",
    "    \"\"\"\n",
    "    def __init__(self, pos_x=0.0, pos_y=0.0, pos_z=0.0,\n",
    "                 len_x=1.0, len_y=1.0, len_z=1.0):\n",
    "\n",
    "        # Starting point.\n",
    "        self.pos_x = float(pos_x)\n",
    "        self.pos_y = float(pos_y)\n",
    "        self.pos_z = float(pos_z)\n",
    "\n",
    "        # Edge length.\n",
    "        self.len_x = float(len_x)\n",
    "        self.len_y = float(len_y)\n",
    "        self.len_z = float(len_z)\n",
    "\n",
    "    def get_obst(self):\n",
    "        # Calculate dimensions and position of the obstruction.\n",
    "        # Start.\n",
    "        x1 = self.pos_x\n",
    "        y1 = self.pos_y\n",
    "        z1 = self.pos_z\n",
    "\n",
    "        # End.\n",
    "        x2 = self.pos_x + self.len_x\n",
    "        y2 = self.pos_y + self.len_y\n",
    "        z2 = self.pos_z + self.len_z\n",
    "\n",
    "        # Create box shape of obstruction.\n",
    "        bx1 = BoxShape(x1, x2,\n",
    "                       y1, y2,\n",
    "                       z1,  z2)\n",
    "\n",
    "        # Attach surface to obstruction.\n",
    "        sf1 = Surf()\n",
    "\n",
    "        # Finalise obstruction for FDS input file.\n",
    "        obst = \"&OBST {}, {} /\".format(bx1.get_box(), sf1.get_surf())\n",
    "\n",
    "        return obst"
   ]
  },
  {
   "cell_type": "code",
   "execution_count": null,
   "metadata": {},
   "outputs": [],
   "source": []
  },
  {
   "cell_type": "code",
   "execution_count": null,
   "metadata": {},
   "outputs": [],
   "source": []
  },
  {
   "cell_type": "code",
   "execution_count": null,
   "metadata": {},
   "outputs": [],
   "source": []
  },
  {
   "cell_type": "code",
   "execution_count": null,
   "metadata": {},
   "outputs": [],
   "source": []
  },
  {
   "cell_type": "code",
   "execution_count": null,
   "metadata": {},
   "outputs": [],
   "source": []
  }
 ],
 "metadata": {
  "kernelspec": {
   "display_name": "Python 3",
   "language": "python",
   "name": "python3"
  },
  "language_info": {
   "codemirror_mode": {
    "name": "ipython",
    "version": 3
   },
   "file_extension": ".py",
   "mimetype": "text/x-python",
   "name": "python",
   "nbconvert_exporter": "python",
   "pygments_lexer": "ipython3",
   "version": "3.6.4"
  }
 },
 "nbformat": 4,
 "nbformat_minor": 2
}
